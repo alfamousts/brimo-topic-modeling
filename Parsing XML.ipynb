{
 "cells": [
  {
   "cell_type": "code",
   "execution_count": 1,
   "metadata": {},
   "outputs": [],
   "source": [
    "import xml.etree.ElementTree as ET"
   ]
  },
  {
   "cell_type": "code",
   "execution_count": 2,
   "metadata": {},
   "outputs": [],
   "source": [
    "root = ET.parse('data/xml/appstore-5.xml').getroot()"
   ]
  },
  {
   "cell_type": "code",
   "execution_count": 3,
   "metadata": {},
   "outputs": [],
   "source": [
    "xmlDatas = []\n",
    "for entry in root.findall('.//{http://www.w3.org/2005/Atom}entry'):\n",
    "    authorId = entry.find('.//{http://www.w3.org/2005/Atom}id').text\n",
    "    waktu = entry.find('.//{http://www.w3.org/2005/Atom}updated').text\n",
    "    content = entry.find('.//{http://www.w3.org/2005/Atom}content').text\n",
    "    author = entry.find('.//{http://www.w3.org/2005/Atom}author')\n",
    "    authorName = author.find('.//{http://www.w3.org/2005/Atom}name').text\n",
    "    #print(authorId,authorName,content,waktu)\n",
    "    xmlDatas.append([authorId,authorName,content,waktu])"
   ]
  },
  {
   "cell_type": "code",
   "execution_count": 4,
   "metadata": {},
   "outputs": [
    {
     "name": "stdout",
     "output_type": "stream",
     "text": [
      "[['6815693925', 'bdgwushevjw', 'Setelah update terbaru, pada saat ingin login tidak ada sms verifikasi masuk. Hasilnya tidak bisa login. Mohon diperbaiki.\\nCepetan saya gabisa akses mau tf ini itu gaada kabar', '2020-12-31T14:17:37-07:00'], ['6815555202', 'tidak ada nama ya', 'Sudah 3 hari tiba tiba buka apps nya keluar tulisan “username anda sedang dalam keadaan terblokir” padahal saya tidak pernah memasukkan kata sandi atau username yang salah, kenapa seperti ini? Padahal semua uang terlanjur saya pindah ke BRI . Bikin susah kalo begini .', '2020-12-31T13:15:41-07:00'], ['6814457254', 'panca_90', 'Pengaturan but ganti pin&pasword kenapa tidak tersedia', '2020-12-31T06:42:10-07:00'], ['6814361523', 'Madatidar', 'saya tidak bisa login selama 2 minggu setelah update aplikasi.\\ntidak ada sms yg saya terima dr brimo.\\nmohon bantuannya.\\nterima kasih.', '2020-12-31T06:10:36-07:00'], ['6814104729', 'yesuke', 'Proses transfer tdk bs di jalankan padahal saldo masih ada dengan keterangan saldo tdk mencukupi , sangat di sayangkan', '2020-12-31T04:42:06-07:00'], ['6813598845', 'Queenka2018', 'Ini kenapa ya gak bisa masuk aja udah log in juga , udah di coba gak ada masuk sms berulang kali padahal udh upgrade yg versi baru malah lemot', '2020-12-31T01:20:08-07:00'], ['6813487455', 'mabbalo', 'Knp setiap mau login selalu mengirimkan alamat web login ke nomor', '2020-12-31T00:29:55-07:00'], ['6813454083', 'DianS24', 'Tidak menerima sms verifikasi', '2020-12-31T00:14:10-07:00'], ['6812918117', 'Armandateruna', 'Kenapa ya, app BRI ini sering banget ke blokir. Padahal ga salah pasword. Setahun ini sdh yg ke 4 kali tiba2 mau login keblokir. Ribet tau!!!!', '2020-12-30T20:17:34-07:00'], ['6812898497', 'utiiiiiyt', 'Payah ga bisa login\\nKatanya link nya dikirim ke inboox Tpi ternyata ga ada masuk sama sekali, gimana sih ini', '2020-12-30T20:10:30-07:00'], ['6812695487', 'Qutbii', 'Kenapa setelah update tidak ada lagi fitur cetak token listrik lagi', '2020-12-30T18:58:19-07:00'], ['6812125452', 'nabil arkan', 'Akun sering terblokir sendiri, dan resetnya lambat, link email sering gagal dibuka... tolong setera diperbaiki, jadi lambat mau transaksi', '2020-12-30T15:05:57-07:00'], ['6810962754', 'bintanggg satuuuuu', 'Gk bs top up aplikasi dana.. kode error mulu keterangannya', '2020-12-30T07:50:31-07:00'], ['6810604576', 'rizaibnoe', 'Tidak mendapatkan link verifikasi via sms. Jadi tidak bisa log in. \\nPosisi ios 14.3', '2020-12-30T05:49:30-07:00'], ['6810373459', 'ryandake 0307', 'Gk bisa login \\nKata y verifikasi sms \\nUdah berkali” gk ada juga notifikasi y \\nGimana ini ?????', '2020-12-30T04:38:46-07:00'], ['6810034456', '1236333rstu', 'Saya ke log out dan mau log in tapi saya tidak mendapatkan kode via sms padahal nomer saya aktif', '2020-12-30T02:36:11-07:00'], ['6810001972', 'tintinyd', 'So far so good selama saya menggunakan Brimo. Harapan saya semoga ke depan nya aplikasi BriMo bisa mengikuti Bank M****** yang bisa support NFC di iphone.', '2020-12-30T02:22:12-07:00'], ['6809833119', 'Shenopati', 'Mobile Banking paling absurd! Ada fitur buka rekening, tapi kartu debit mesti ambil sendiri ke cabang, sama aja boong kalo mesih perlu datang ke cabang, lol!', '2020-12-30T01:15:08-07:00'], ['6809816587', 'jaexminee', 'saya udah coba berkali2 dan menunggu pesan untuk link login tapi tidak ada pesan masuk sama sekali', '2020-12-30T01:09:05-07:00'], ['6809806141', 'yolanda ibrahim', 'Kak kenapa brimo sy keluar sendiri ya? Terus mau log in tidak dpt lg?', '2020-12-30T01:04:47-07:00'], ['6809472816', 'Ahmad18705', 'tidak ada kesalah masukin pin atau login gagal, tapi tiba2 akun terblokir, tiba2 gak bisa login gak bisa transaksi, aneh bank besar kok kualitas nya gini, mana lagi pandemi, riskan kalo haris ke bank benerin akun mobile', '2020-12-29T22:20:57-07:00'], ['6809321115', 'faythlenfried', 'Tampilan BriMo yang baru lebih segar\\nTapi sayang tidak fullscreen di iPhone XS\\nJadi saya kurangi 2 bintang', '2020-12-29T21:10:40-07:00'], ['6809052591', 'owaja', 'Saya disuruh memasukan 16 nomor digit yang tertera dikartu atm, tetapi tidak salah terus, padahal sudah benar', '2020-12-29T19:33:34-07:00'], ['6809044728', 'Aura Najwa', 'Demi apapun kesel banget. Please Brimo, saya udah coba berkali-kali rekam video pas udah 60% gagal terus muncul kesalahan kode SIR2. Capek tau mencet (Baiklah :,) . Ngeselin sumpah deh. Dahlah🙂', '2020-12-29T19:30:44-07:00'], ['6808936056', 'sarsi sutomo p', 'Kk saya mau bayar bpjs lewat brimo. Saya sudah tanya tetangga dan warga sekampung. Menu pembayaran bpjs dimanyabya kak. Saya pake versi alpha. Mohon pencerhannya kak.', '2020-12-29T18:49:20-07:00'], ['6808925738', 'juntak21', 'gimana sy tidak bisa login dan stuck menunggu sms verifikasi yang tidak pernah masuk', '2020-12-29T18:44:55-07:00'], ['6808563003', 'ramadhanabs99', 'Di update aplikasi paling terbaru malah tampilan Ui berubah dan fitur tarik tunai hilang', '2020-12-29T16:33:53-07:00'], ['6806879009', 'bsksbsbs', 'Untuk brimo versi terbaru apa tdk ada menu top up link aja?', '2020-12-29T06:31:51-07:00'], ['6806653271', 'novasl', 'Aneh banget nih versi terbaru, tujuan saya buat m banking ya buat bayar2... masak menu pembayaran tidak tersedia di versi ini? Tlg dong saya kesulitan nih yg di pedesaan buat bayar2... terutama bayar asuransi jd g bisa', '2020-12-29T05:19:44-07:00'], ['6806588173', 'grab-angel', 'Semenjak aplikasi di-update, pilihan pembayaran kartu kredit hanya 4 bank, top up saldo dompet digital pun bermasalah. Ribet bgt!', '2020-12-29T04:56:54-07:00'], ['6806561960', 'NonoTaryono88', 'Sering banget gak bisa login keterangan user terblokir,\\nPadahal gak pernah melakukan kesalahan apapun,\\nKalau udah dibenerin lagi, nnti suka kumat lagi\\nDan seterusnya', '2020-12-29T04:47:24-07:00'], ['6806528838', 'katsuobusy', 'Sebelum update normal, setelah update ga bisa log in. Ga jelas!!', '2020-12-29T04:34:54-07:00'], ['6806496164', 'dadynurah', 'terimamasih akhirnya bs update saldo brizzi 👍', '2020-12-29T04:22:29-07:00'], ['6806491097', 'gabriella devi', 'Udah berulang kali kode nya ga terkirim2', '2020-12-29T04:20:32-07:00'], ['6806471752', 'itshealpills', 'Gimana caranya top up gopay di app versi terbarunya?', '2020-12-29T04:12:49-07:00'], ['6806123949', 'goktavia', 'Di menu mutasi rekening, knp kalau transaksi pakai aplikasi ios tdk bisa langsung diketahui nama pengirimnya pdhal transfer dari sesama rekening bri ?', '2020-12-29T01:48:20-07:00'], ['6805794266', 'Dmrzki', 'SEJAK DIPERBAHARUI GAK BISA LOGIN SAMA SEKALI!!!!!!!!!!!!!!!!!!!!!!!', '2020-12-28T23:08:26-07:00'], ['6805512851', 'hasrulotama', 'Fitur sidik jari kok dihilangkan ya? Padahal membantu bgt. Sekarang jd lupa username aku gue dan gak bisa masuk lg setelah update', '2020-12-28T20:53:00-07:00'], ['6805448461', 'deviakemi', 'Saya mau tanya kenapa di BRImo tidak bisa untuk pembayaran cicilan FIF ya .?', '2020-12-28T20:25:07-07:00'], ['6805431585', 'nadiya octa', 'Saya udah berkali kali ditahap perekaman Vidio sampee 10 kali mungkin ada tetep sajaa terdapat kesalahan, lebih baik jangan dibuat susah untuk daftarnyaa', '2020-12-28T20:17:39-07:00'], ['6805259545', 'Link Log in', 'Ketika mau log in,di situ tertulis link untuk masuk ke BRImo akan dikirim ke nomor Hp tapi tidak ada sms yang masuk', '2020-12-28T19:05:37-07:00'], ['6805193984', 'jehrjdie', 'Awalnya bingung cari menu buat top up link aja sama gopay, ternyata jadi satu di menu dompet digital...mantab tampilan barunya', '2020-12-28T18:40:17-07:00'], ['6805118780', 'AndiNori', 'Tolong untuk Fitur Catatan Keuangan dikasih menu Edit atau Hapus, Terimakasih', '2020-12-28T18:14:07-07:00'], ['6804833679', 'choyinhaa', 'Tidak tau kenapa video yang direkam dbilang tidak sesuai. Padahal udh take puluhan kali. Sepertinya bagian wajah dan yang dibaca sudah sesuai arahan', '2020-12-28T16:23:57-07:00'], ['6804771535', 'Rheinandy', 'Saya berulang kali masuk dan tertera untuk menunggu link dikirim, tapi tidak ada pesan sama sekali', '2020-12-28T15:58:48-07:00'], ['6804587380', 'topazoyen', 'Agak aneh dengan BRImo ini padahal saya Jarang login tapi sekali nya buka pasti udah ke blokir krn salah password dalam sebulan bisa 3 kali saya ke blokir dan ganti password.\\nPadahal ada finger tp nga berfungsi kyknya .\\nMohon diperbaiki lagi dalam sistemnya \\nTerima kasih', '2020-12-28T14:44:42-07:00'], ['6804022052', 'Mewnx', 'username & password yg dimasukkan sudah betul, katanya akan dikirim link untuk log in lewat SMS, tapi ga pernah masuk. no HP saya sebelumnya emg connect ke BRIMO. udah dicoba berkali2 gabisa juga.', '2020-12-28T11:01:13-07:00'], ['6803539861', 'Asykarandy', 'Setelah update banyak menu yg tidak bisa gunakan, contohnya seperti menu bayar tagihan listrik yg selalu error dan tidak bisa di gunakan', '2020-12-28T08:19:38-07:00'], ['6803424961', 'rogerfans', 'Bug login akun masih login trs ke update aplikasinya habis itu ga bisa di login dapet notif kalo akun ke login di perangkat lain padahal login cuma ke 1hp', '2020-12-28T07:42:23-07:00'], ['6803347234', 'NajibInv', 'Error fp2799. Tolong perbaiki. Masa saya gak bsa ngisi saldo ke dana ke nomor tertentu. Konyol harus pake aplikasi bri mobile yg via sms bwt ngisi saldo baru bisa', '2020-12-28T07:17:04-07:00']]\n"
     ]
    }
   ],
   "source": [
    "print(xmlDatas)"
   ]
  },
  {
   "cell_type": "code",
   "execution_count": 5,
   "metadata": {},
   "outputs": [],
   "source": [
    "import csv\n",
    "csvFile = open('data/csv/result-appstore-5.csv','w',newline='',errors='replace')\n",
    "csvWriter = csv.writer(csvFile,delimiter=',',quotechar='\"',quoting=csv.QUOTE_MINIMAL)\n",
    "csvWriter.writerow([\"authorId\",\"authorName\",\"content\",\"waktu\"])\n",
    "for data in xmlDatas:\n",
    "    csvWriter.writerow([data[0],data[1],data[2],data[3]])\n",
    "csvFile.close()"
   ]
  },
  {
   "cell_type": "code",
   "execution_count": null,
   "metadata": {},
   "outputs": [],
   "source": []
  }
 ],
 "metadata": {
  "kernelspec": {
   "display_name": "Python 3",
   "language": "python",
   "name": "python3"
  },
  "language_info": {
   "codemirror_mode": {
    "name": "ipython",
    "version": 3
   },
   "file_extension": ".py",
   "mimetype": "text/x-python",
   "name": "python",
   "nbconvert_exporter": "python",
   "pygments_lexer": "ipython3",
   "version": "3.8.3"
  }
 },
 "nbformat": 4,
 "nbformat_minor": 4
}
