{
 "cells": [
  {
   "cell_type": "code",
   "execution_count": 1,
   "metadata": {},
   "outputs": [],
   "source": [
    "from google_play_scraper import app\n",
    "\n",
    "result = app(\n",
    "    'id.co.bri.brimo',\n",
    "    lang='en', # defaults to 'en'\n",
    "    country='id' # defaults to 'us'\n",
    ")"
   ]
  },
  {
   "cell_type": "code",
   "execution_count": 2,
   "metadata": {},
   "outputs": [
    {
     "name": "stdout",
     "output_type": "stream",
     "text": [
      "{'title': 'BRImo BRI', 'description': 'BRImo merupakan Aplikasi Keuangan Digital Bank BRI terbaru berbasis data internet yang memberikan kemudahan bagi nasabah untuk dapat bertransaksi dengan User Interface dan User Experience (UI/UX) terbaru dan fitur-fitur menarik lainnya seperti online opening account, tarik tunai tanpa kartu, alias rekening, info promo,  login dengan fingerprint / face id, dan mutasi rekening sampai dengan 12 bulan.', 'descriptionHTML': 'BRImo merupakan Aplikasi Keuangan Digital Bank BRI terbaru berbasis data internet yang memberikan kemudahan bagi nasabah untuk dapat bertransaksi dengan User Interface dan User Experience (UI/UX) terbaru dan fitur-fitur menarik lainnya seperti online opening account, tarik tunai tanpa kartu, alias rekening, info promo,  login dengan fingerprint / face id, dan mutasi rekening sampai dengan 12 bulan.', 'summary': 'BRImo merupakan Aplikasi Keuangan Digital Bank BRI', 'summaryHTML': 'BRImo merupakan Aplikasi Keuangan Digital Bank BRI', 'installs': '5,000,000+', 'minInstalls': 5000000, 'score': 4.262204, 'ratings': 179552, 'reviews': 97202, 'histogram': [22943, 4762, 5600, 15213, 131034], 'price': 0, 'free': True, 'currency': 'USD', 'sale': False, 'saleTime': None, 'originalPrice': None, 'saleText': None, 'offersIAP': False, 'inAppProductPrice': None, 'size': 'Varies with device', 'androidVersion': '4.4', 'androidVersionText': '4.4 and up', 'developer': 'PT Bank Rakyat Indonesia (Persero) Tbk.', 'developerId': 'PT+Bank+Rakyat+Indonesia+(Persero)+Tbk.', 'developerEmail': 'it_developer@bri.co.id', 'developerWebsite': 'http://www.bri.co.id', 'developerAddress': None, 'privacyPolicy': 'https://ib.bri.co.id/ib-bri/id/help.html', 'developerInternalID': '6189200107457550652', 'genre': 'Finance', 'genreId': 'FINANCE', 'icon': 'https://play-lh.googleusercontent.com/uGyf__KzefsdsdlRZY1MfLx5frFGZ6uB9q9PWLS8c7a95aEuOLfiIuh5qEowtH0asA', 'headerImage': 'https://play-lh.googleusercontent.com/O83nvRt5NvM0I2oSGY9BnDYvOKPAOjlH27MzeqJaUJZvFjhW6PUM6uYlhCXtK9tcJznc', 'screenshots': ['https://play-lh.googleusercontent.com/z4hGTAtwMmQNajR5VYAn_xJXB4TADCTl12hrgWGwRulucGua53U8FcqpeiGWhea92y8', 'https://play-lh.googleusercontent.com/8F-fh_cSzCFkT0JN6UJf3EbjxrrYyeGUbidu_UUTXD1YdYbqPL_RuFo32qZIqiRH62Y', 'https://play-lh.googleusercontent.com/aYGd8YDNrTtWvCgj6qwcErXd8UvXTEYZhH1OQtjjaA7W9Z3MDs4QalBbqEc3Wh3rRQ', 'https://play-lh.googleusercontent.com/iOzm9SPlZODRm8D_foUgK0SogaEhp4YsGH3aoDohNBf0SRdOPTeYXn5PEsp5G9lLVw', 'https://play-lh.googleusercontent.com/9lAQ9WNsfWm6mavebB-qn4alsS2_PC0iuGNXUxgpbinBOyLmC1E43N5tsrQq0R8CQrU', 'https://play-lh.googleusercontent.com/-4-wVKiRIteKObD0fOZzj4zLPzrwAQDB2RgYWSeGqOZpwot8-OVQ_JPGoNRVdu_BauN1'], 'video': None, 'videoImage': None, 'contentRating': 'Rated for 3+', 'contentRatingDescription': None, 'adSupported': None, 'containsAds': False, 'released': 'Feb 25, 2019', 'updated': 1590934809, 'version': '1.8.0', 'recentChanges': 'Terima kasih telah menggunakan BRImo\\r\\n\\r\\nBRImo kini hadir dengan Fitur-fitur terbaru yaitu:\\r\\n\\r\\n1. Saatnya bayar di kasir tanpa repot ambil dompet. Cukup buka BRImo dan pilih fitur baru QR CPM\\r\\n\\r\\n2. Rencanakan Target Tabungan masa depanmu dengan manfaat maksimal melalui BritAma Rencana Flexy. Buka segera melalui menu buka rekening dan pilih Britama Rencana Flexy\\r\\n\\r\\n\\r\\nVersi terbaru BRImo akan memudahkan Anda. Terima kasih', 'recentChangesHTML': 'Terima kasih telah menggunakan BRImo<br><br>BRImo kini hadir dengan Fitur-fitur terbaru yaitu:<br><br>1. Saatnya bayar di kasir tanpa repot ambil dompet. Cukup buka BRImo dan pilih fitur baru QR CPM<br><br>2. Rencanakan Target Tabungan masa depanmu dengan manfaat maksimal melalui BritAma Rencana Flexy. Buka segera melalui menu buka rekening dan pilih Britama Rencana Flexy<br><br><br>Versi terbaru BRImo akan memudahkan Anda. Terima kasih', 'comments': [], 'appId': 'id.co.bri.brimo', 'url': 'https://play.google.com/store/apps/details?id=id.co.bri.brimo&hl=en&gl=id'}\n"
     ]
    }
   ],
   "source": [
    "print(result)"
   ]
  },
  {
   "cell_type": "code",
   "execution_count": 1,
   "metadata": {},
   "outputs": [],
   "source": [
    "from google_play_scraper import Sort, reviews_all\n",
    "\n",
    "result = reviews_all(\n",
    "    'id.co.bri.brimo',\n",
    "    sleep_milliseconds=0, # defaults to 0\n",
    "    lang='en', # defaults to 'en'\n",
    "    country='id', # defaults to 'us'\n",
    "    #sort=Sort.MOST_RELEVANT, # defaults to Sort.MOST_RELEVANT\n",
    "    #filter_score_with=5 # defaults to None(means all score)\n",
    ")"
   ]
  },
  {
   "cell_type": "code",
   "execution_count": 4,
   "metadata": {},
   "outputs": [
    {
     "name": "stderr",
     "output_type": "stream",
     "text": [
      "IOPub data rate exceeded.\n",
      "The notebook server will temporarily stop sending output\n",
      "to the client in order to avoid crashing it.\n",
      "To change this limit, set the config variable\n",
      "`--NotebookApp.iopub_data_rate_limit`.\n",
      "\n",
      "Current values:\n",
      "NotebookApp.iopub_data_rate_limit=1000000.0 (bytes/sec)\n",
      "NotebookApp.rate_limit_window=3.0 (secs)\n",
      "\n"
     ]
    }
   ],
   "source": [
    "print(result)"
   ]
  },
  {
   "cell_type": "code",
   "execution_count": 2,
   "metadata": {},
   "outputs": [
    {
     "name": "stdout",
     "output_type": "stream",
     "text": [
      "{'reviewId': 'gp:AOqpTOEB38MR4HA_ga-ouNLOtcmOGVMwqmOsxGylNI_Sj0ce3RdkYmG42UKQ5-_4fTVZFMVrjfRCc3eN9a9sBfA', 'userName': 'jenal arifin', 'userImage': 'https://play-lh.googleusercontent.com/a-/AOh14GiUzAk3JnhyVp_B-NcIeOmQPHzN0xm7eMWcvka_', 'content': 'sangat bagus', 'score': 5, 'thumbsUpCount': 0, 'reviewCreatedVersion': '1.8.0', 'at': datetime.datetime(2020, 11, 10, 6, 27, 53), 'replyContent': 'Selamat pagi Bapak Jenal Arifin. Terima kasih atas kepercayaan Bapak pada produk Bank BRI, sehat dan sukses selalu. Tks~Kori', 'repliedAt': datetime.datetime(2020, 11, 10, 7, 21, 42)}\n"
     ]
    }
   ],
   "source": [
    "print(result[0])"
   ]
  },
  {
   "cell_type": "code",
   "execution_count": 7,
   "metadata": {},
   "outputs": [],
   "source": [
    "fname = \"review_all.json\"\n",
    "with open(fname,'w',errors='replace') as f:\n",
    "    f.write(str(result))"
   ]
  },
  {
   "cell_type": "code",
   "execution_count": 5,
   "metadata": {},
   "outputs": [
    {
     "name": "stdout",
     "output_type": "stream",
     "text": [
      "9813\n"
     ]
    }
   ],
   "source": [
    "print(len(result))"
   ]
  },
  {
   "cell_type": "code",
   "execution_count": 10,
   "metadata": {},
   "outputs": [],
   "source": [
    "import json\n",
    "import csv\n",
    "csvFile = open('result.csv','w',newline='',errors='replace')\n",
    "csvWriter = csv.writer(csvFile,delimiter=',',quotechar='\"',quoting=csv.QUOTE_MINIMAL)\n",
    "csvWriter.writerow([\"reviewId\",\"userName\",\"content\",\"waktu\"])\n",
    "for data in result:\n",
    "    csvWriter.writerow([data[\"reviewId\"],data[\"userName\"],data[\"content\"],data[\"at\"]])\n",
    "csvFile.close()"
   ]
  },
  {
   "cell_type": "code",
   "execution_count": null,
   "metadata": {},
   "outputs": [],
   "source": []
  }
 ],
 "metadata": {
  "kernelspec": {
   "display_name": "Python 3",
   "language": "python",
   "name": "python3"
  },
  "language_info": {
   "codemirror_mode": {
    "name": "ipython",
    "version": 3
   },
   "file_extension": ".py",
   "mimetype": "text/x-python",
   "name": "python",
   "nbconvert_exporter": "python",
   "pygments_lexer": "ipython3",
   "version": "3.8.3"
  }
 },
 "nbformat": 4,
 "nbformat_minor": 4
}
