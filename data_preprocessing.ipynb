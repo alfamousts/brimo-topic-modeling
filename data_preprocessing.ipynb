{
 "cells": [
  {
   "cell_type": "code",
   "execution_count": 12,
   "metadata": {},
   "outputs": [],
   "source": [
    "import pandas as pd\n",
    "import os\n",
    "import re\n",
    "import nltk\n",
    "import string\n",
    "import emoji\n",
    "from Sastrawi.StopWordRemover.StopWordRemoverFactory import StopWordRemoverFactory\n",
    "from Sastrawi.Stemmer.StemmerFactory import StemmerFactory\n",
    "from collections import Counter"
   ]
  },
  {
   "cell_type": "code",
   "execution_count": 13,
   "metadata": {},
   "outputs": [],
   "source": [
    "def cleansing(text):\n",
    "    # remove non-ascii\n",
    "    text = text.encode('ascii', 'ignore').decode('ascii')\n",
    "\n",
    "    emoticons = r\"\"\"\n",
    "        (?:\n",
    "            [:=;] # Eyes\n",
    "            [oO\\-]? # Nose (optional)\n",
    "            [D\\)\\]\\(\\]/\\\\OpP] # Mouth\n",
    "        )\"\"\"\n",
    "    # remove emoticon\n",
    "    text = re.sub(emoticons, '', text)\n",
    "\n",
    "    # remove URLs\n",
    "    text = re.sub(\n",
    "        r'(?i)\\b((?:https?://|www\\d{0,3}[.]|[a-z0-9.\\-]+[.][a-z]{2,4}/)(?:[^\\s()<>]+|\\(([^\\s()<>]+|(\\([^\\s()<>]+\\)))*\\))+(?:\\(([^\\s()<>]+|(\\([^\\s()<>]+\\)))*\\)|[^\\s`!()\\[\\]{};:\\'\".,<>?«»“”‘’]))',\n",
    "        '', text)\n",
    "\n",
    "    # remove punctuations\n",
    "    text = re.sub(r'[^\\w]|_', ' ', text)\n",
    "\n",
    "    # remove digit from string\n",
    "    text = re.sub(\"\\S*\\d\\S*\", \"\", text).strip()\n",
    "\n",
    "    # remove digit or numbers\n",
    "    text = re.sub(r\"\\b\\d+\\b\", \" \", text)\n",
    "\n",
    "    # to lowercase\n",
    "    text = text.lower()\n",
    "\n",
    "    # Remove additional white spaces\n",
    "    text = re.sub('[\\s]+', ' ', text)\n",
    "\n",
    "    return text"
   ]
  },
  {
   "cell_type": "code",
   "execution_count": 14,
   "metadata": {},
   "outputs": [],
   "source": [
    "def stemmerFactory(text):\n",
    "    factory = StemmerFactory()\n",
    "    stemmer = factory.create_stemmer()\n",
    "    text = stemmer.stem(text)\n",
    "\n",
    "    return text"
   ]
  },
  {
   "cell_type": "code",
   "execution_count": 15,
   "metadata": {},
   "outputs": [],
   "source": [
    "def preProcessing(text):\n",
    "    text = cleansing(text)\n",
    "    text = stemmerFactory(text)\n",
    "\n",
    "    return text"
   ]
  },
  {
   "cell_type": "code",
   "execution_count": 16,
   "metadata": {},
   "outputs": [],
   "source": [
    "data = pd.read_csv('./data/android.csv',delimiter=',',encoding= 'unicode_escape')"
   ]
  },
  {
   "cell_type": "code",
   "execution_count": null,
   "metadata": {},
   "outputs": [],
   "source": [
    "newText = [i.split() for i in data['content'].apply(preProcessing)]"
   ]
  },
  {
   "cell_type": "code",
   "execution_count": null,
   "metadata": {},
   "outputs": [],
   "source": []
  }
 ],
 "metadata": {
  "kernelspec": {
   "display_name": "Python 3",
   "language": "python",
   "name": "python3"
  },
  "language_info": {
   "codemirror_mode": {
    "name": "ipython",
    "version": 3
   },
   "file_extension": ".py",
   "mimetype": "text/x-python",
   "name": "python",
   "nbconvert_exporter": "python",
   "pygments_lexer": "ipython3",
   "version": "3.8.3"
  }
 },
 "nbformat": 4,
 "nbformat_minor": 4
}
